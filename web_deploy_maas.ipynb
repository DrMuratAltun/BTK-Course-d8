{
 "cells": [
  {
   "cell_type": "markdown",
   "id": "314e28dd",
   "metadata": {},
   "source": [
    "# Maaş Tahmin eden bir web uygulaması"
   ]
  },
  {
   "cell_type": "code",
   "execution_count": 1,
   "id": "e2e17143",
   "metadata": {},
   "outputs": [],
   "source": [
    "#pip install streamlit"
   ]
  },
  {
   "cell_type": "code",
   "execution_count": 4,
   "id": "3c3c21a7",
   "metadata": {},
   "outputs": [],
   "source": [
    "import streamlit as st\n",
    "import pandas as pd\n",
    "import pickle\n",
    "import warnings\n",
    "warnings.filterwarnings(\"ignore\")"
   ]
  },
  {
   "cell_type": "code",
   "execution_count": 5,
   "id": "2d29c325",
   "metadata": {},
   "outputs": [
    {
     "data": {
      "text/plain": [
       "DeltaGenerator()"
      ]
     },
     "execution_count": 5,
     "metadata": {},
     "output_type": "execute_result"
    }
   ],
   "source": [
    "st.title(\"Maaş Tahmin Sistemi:heavy_dollar_sign:\")"
   ]
  },
  {
   "cell_type": "code",
   "execution_count": 6,
   "id": "a522a9a9",
   "metadata": {},
   "outputs": [],
   "source": [
    "model = pickle.load(open(\"model.pkl\", \"rb\"))\n",
    "tecrube=st.number_input(\"Tecrube\",1,10)\n",
    "yazili=st.number_input(\"Sınav\",1,10)\n",
    "mulakat=st.number_input(\"Mulakat\",1,10)\n",
    "if st.button(\"Tahmin Et\"):\n",
    "    tahmin=model.predict([[tecrube,yazili,mulakat]])\n",
    "    tahmin=round(tahmin[0],2)\n",
    "    st.write(f\"Tahmin Edilen Maas $: {tahmin}\")"
   ]
  },
  {
   "cell_type": "code",
   "execution_count": null,
   "id": "64b75f47",
   "metadata": {},
   "outputs": [],
   "source": []
  }
 ],
 "metadata": {
  "kernelspec": {
   "display_name": "Python 3 (ipykernel)",
   "language": "python",
   "name": "python3"
  },
  "language_info": {
   "codemirror_mode": {
    "name": "ipython",
    "version": 3
   },
   "file_extension": ".py",
   "mimetype": "text/x-python",
   "name": "python",
   "nbconvert_exporter": "python",
   "pygments_lexer": "ipython3",
   "version": "3.11.5"
  }
 },
 "nbformat": 4,
 "nbformat_minor": 5
}
